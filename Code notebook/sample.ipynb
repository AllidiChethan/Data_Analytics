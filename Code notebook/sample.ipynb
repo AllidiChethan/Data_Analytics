{
 "cells": [
  {
   "metadata": {},
   "cell_type": "code",
   "source": "print(\"Hello World!\")\n",
   "id": "fbc121e30a2defb3",
   "outputs": [
    {
     "name": "stdout",
     "output_type": "stream",
     "text": [
      "Hello World!\n"
     ]
    }
   ],
   "execution_count": 2
  },
  {
   "metadata": {
    "ExecuteTime": {
     "end_time": "2025-08-13T09:38:58.596071Z",
     "start_time": "2025-08-13T09:38:58.574226Z"
    }
   },
   "cell_type": "code",
   "source": "print('the git is sucessfully integrated')",
   "id": "25c6f6056edd1497",
   "outputs": [
    {
     "name": "stdout",
     "output_type": "stream",
     "text": [
      "the git is sucessfully integrated\n"
     ]
    }
   ],
   "execution_count": 3
  },
  {
   "metadata": {},
   "cell_type": "code",
   "outputs": [],
   "execution_count": null,
   "source": "",
   "id": "ef21f3705d364fc6"
  }
 ],
 "metadata": {
  "kernelspec": {
   "display_name": "Python 3",
   "language": "python",
   "name": "python3"
  },
  "language_info": {
   "codemirror_mode": {
    "name": "ipython",
    "version": 2
   },
   "file_extension": ".py",
   "mimetype": "text/x-python",
   "name": "python",
   "nbconvert_exporter": "python",
   "pygments_lexer": "ipython2",
   "version": "2.7.6"
  }
 },
 "nbformat": 4,
 "nbformat_minor": 5
}
