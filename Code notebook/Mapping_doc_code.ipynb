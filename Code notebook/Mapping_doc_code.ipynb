{
 "cells": [
  {
   "cell_type": "code",
   "id": "initial_id",
   "metadata": {
    "collapsed": true,
    "ExecuteTime": {
     "end_time": "2025-08-19T07:06:30.638618Z",
     "start_time": "2025-08-19T07:06:28.168121Z"
    }
   },
   "source": [
    "import pandas as pd\n",
    "# URL of the page\n",
    "url = \"https://archive.ics.uci.edu/dataset/320/student+performance\"\n",
    "\n",
    "# Read all tables from the page\n",
    "tables = pd.read_html(url)\n",
    "\n",
    "# Check how many tables were found\n",
    "print(f\"Found {len(tables)} tables on the page.\")\n",
    "\n",
    "# Assuming the first table is the variables table\n",
    "variables_table = tables[0]"
   ],
   "outputs": [
    {
     "name": "stdout",
     "output_type": "stream",
     "text": [
      "Found 2 tables on the page.\n"
     ]
    },
    {
     "data": {
      "text/plain": [
       "  Variable Name     Role         Type Demographic  \\\n",
       "0        school  Feature  Categorical         NaN   \n",
       "1           sex  Feature       Binary         Sex   \n",
       "2           age  Feature      Integer         Age   \n",
       "3       address  Feature  Categorical         NaN   \n",
       "4       famsize  Feature  Categorical       Other   \n",
       "\n",
       "                                         Description  Units Missing Values  \n",
       "0  student's school (binary: 'GP' - Gabriel Perei...    NaN             no  \n",
       "1  student's sex (binary: 'F' - female or 'M' - m...    NaN             no  \n",
       "2             student's age (numeric: from 15 to 22)    NaN             no  \n",
       "3  student's home address type (binary: 'U' - urb...    NaN             no  \n",
       "4  family size (binary: 'LE3' - less or equal to ...    NaN             no  "
      ],
      "text/html": [
       "<div>\n",
       "<style scoped>\n",
       "    .dataframe tbody tr th:only-of-type {\n",
       "        vertical-align: middle;\n",
       "    }\n",
       "\n",
       "    .dataframe tbody tr th {\n",
       "        vertical-align: top;\n",
       "    }\n",
       "\n",
       "    .dataframe thead th {\n",
       "        text-align: right;\n",
       "    }\n",
       "</style>\n",
       "<table border=\"1\" class=\"dataframe\">\n",
       "  <thead>\n",
       "    <tr style=\"text-align: right;\">\n",
       "      <th></th>\n",
       "      <th>Variable Name</th>\n",
       "      <th>Role</th>\n",
       "      <th>Type</th>\n",
       "      <th>Demographic</th>\n",
       "      <th>Description</th>\n",
       "      <th>Units</th>\n",
       "      <th>Missing Values</th>\n",
       "    </tr>\n",
       "  </thead>\n",
       "  <tbody>\n",
       "    <tr>\n",
       "      <th>0</th>\n",
       "      <td>school</td>\n",
       "      <td>Feature</td>\n",
       "      <td>Categorical</td>\n",
       "      <td>NaN</td>\n",
       "      <td>student's school (binary: 'GP' - Gabriel Perei...</td>\n",
       "      <td>NaN</td>\n",
       "      <td>no</td>\n",
       "    </tr>\n",
       "    <tr>\n",
       "      <th>1</th>\n",
       "      <td>sex</td>\n",
       "      <td>Feature</td>\n",
       "      <td>Binary</td>\n",
       "      <td>Sex</td>\n",
       "      <td>student's sex (binary: 'F' - female or 'M' - m...</td>\n",
       "      <td>NaN</td>\n",
       "      <td>no</td>\n",
       "    </tr>\n",
       "    <tr>\n",
       "      <th>2</th>\n",
       "      <td>age</td>\n",
       "      <td>Feature</td>\n",
       "      <td>Integer</td>\n",
       "      <td>Age</td>\n",
       "      <td>student's age (numeric: from 15 to 22)</td>\n",
       "      <td>NaN</td>\n",
       "      <td>no</td>\n",
       "    </tr>\n",
       "    <tr>\n",
       "      <th>3</th>\n",
       "      <td>address</td>\n",
       "      <td>Feature</td>\n",
       "      <td>Categorical</td>\n",
       "      <td>NaN</td>\n",
       "      <td>student's home address type (binary: 'U' - urb...</td>\n",
       "      <td>NaN</td>\n",
       "      <td>no</td>\n",
       "    </tr>\n",
       "    <tr>\n",
       "      <th>4</th>\n",
       "      <td>famsize</td>\n",
       "      <td>Feature</td>\n",
       "      <td>Categorical</td>\n",
       "      <td>Other</td>\n",
       "      <td>family size (binary: 'LE3' - less or equal to ...</td>\n",
       "      <td>NaN</td>\n",
       "      <td>no</td>\n",
       "    </tr>\n",
       "  </tbody>\n",
       "</table>\n",
       "</div>"
      ]
     },
     "execution_count": 2,
     "metadata": {},
     "output_type": "execute_result"
    }
   ],
   "execution_count": 2
  },
  {
   "metadata": {
    "ExecuteTime": {
     "end_time": "2025-08-19T07:12:30.725060Z",
     "start_time": "2025-08-19T07:12:30.681745Z"
    }
   },
   "cell_type": "code",
   "source": "variables_table.to_csv(\"C:\\\\Users\\\\Chethan\\\\PycharmProjects\\\\JupyterProject\\\\data\\\\variables_table.csv\", index=False)",
   "id": "190c3b98bb9e1aba",
   "outputs": [],
   "execution_count": 8
  },
  {
   "metadata": {},
   "cell_type": "code",
   "outputs": [],
   "execution_count": null,
   "source": "",
   "id": "97e79da574526295"
  }
 ],
 "metadata": {
  "kernelspec": {
   "display_name": "Python 3",
   "language": "python",
   "name": "python3"
  },
  "language_info": {
   "codemirror_mode": {
    "name": "ipython",
    "version": 2
   },
   "file_extension": ".py",
   "mimetype": "text/x-python",
   "name": "python",
   "nbconvert_exporter": "python",
   "pygments_lexer": "ipython2",
   "version": "2.7.6"
  }
 },
 "nbformat": 4,
 "nbformat_minor": 5
}
